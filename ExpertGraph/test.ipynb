{
 "cells": [
  {
   "cell_type": "code",
   "execution_count": 10,
   "metadata": {},
   "outputs": [
    {
     "name": "stdout",
     "output_type": "stream",
     "text": [
      "Edge: (1, 2, 2)\n",
      "Edge: (1, 3, 5)\n",
      "Edge: (2, 1, 2)\n",
      "Edge: (3, 2, 4)\n",
      "Edge: (3, 4, 4)\n",
      "Edge: (4, 4, 1)\n"
     ]
    }
   ],
   "source": [
    "import numpy as np\n",
    "import networkx as nx\n",
    "import scipy as sp\n",
    "\n",
    "# 创建图例子\n",
    "G = nx.DiGraph()\n",
    "G.add_weighted_edges_from([(1,2,2), (1,3,5), (2,1,2), (3,2,4), (3,4,4), (4,4,1)])\n",
    "\n",
    "for edge in G.edges(data='weight'):\n",
    "    print(\"Edge:\", edge)\n",
    "\n",
    "# G.has_edge(1, 2)\n",
    "# 转化为稀疏矩阵\n",
    "# nodelist = list(G)\n",
    "# A = nx.to_scipy_sparse_array(G, nodelist=nodelist, dtype=float)\n",
    "# # 转换为numpy矩阵\n",
    "# S = A.sum(axis=1)\n",
    "# S[S != 0] = 1.0 / S[S != 0]\n",
    "# # TODO: csr_array\n",
    "# Q = sp.sparse.csr_array(sp.sparse.spdiags(S.T, 0, *A.shape))\n",
    "# A = Q @ A\n",
    "# A_np = np.array(A.toarray())\n",
    "\n",
    "# print(A_np)"
   ]
  }
 ],
 "metadata": {
  "kernelspec": {
   "display_name": "DeepLearning",
   "language": "python",
   "name": "python3"
  },
  "language_info": {
   "codemirror_mode": {
    "name": "ipython",
    "version": 3
   },
   "file_extension": ".py",
   "mimetype": "text/x-python",
   "name": "python",
   "nbconvert_exporter": "python",
   "pygments_lexer": "ipython3",
   "version": "3.8.5"
  },
  "orig_nbformat": 4
 },
 "nbformat": 4,
 "nbformat_minor": 2
}
